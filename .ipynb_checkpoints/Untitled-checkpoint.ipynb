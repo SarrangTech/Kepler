{
 "cells": [
  {
   "cell_type": "code",
   "execution_count": 1,
   "id": "d29d4562",
   "metadata": {},
   "outputs": [],
   "source": [
    "import warnings\n",
    "\n",
    "warnings.filterwarnings(\"ignore\")"
   ]
  },
  {
   "cell_type": "code",
   "execution_count": 63,
   "id": "1dd4c1a2",
   "metadata": {},
   "outputs": [],
   "source": [
    "import numpy as np\n",
    "import pandas as pd\n",
    "import matplotlib.pyplot as plt\n",
    "import seaborn as sns"
   ]
  },
  {
   "cell_type": "code",
   "execution_count": 64,
   "id": "0fbb1409",
   "metadata": {},
   "outputs": [],
   "source": [
    "df=pd.read_excel(\"C:\\\\Users\\\\Sarrang\\\\Desktop\\\\kepler_data.xlsx\")"
   ]
  },
  {
   "cell_type": "code",
   "execution_count": 65,
   "id": "3bdcb7be",
   "metadata": {},
   "outputs": [],
   "source": [
    "\"\"\" dropping the columns koi_teq_err2, koi_teq_err1 because 100% of values are missing\"\"\"\n",
    "df.drop(columns=['koi_teq_err2', 'koi_teq_err1'], inplace=True)"
   ]
  },
  {
   "cell_type": "code",
   "execution_count": 66,
   "id": "810714ac",
   "metadata": {},
   "outputs": [],
   "source": [
    "\"\"\" the column kepler name contains 75% missing values, dropping this column could result in lots of bias. However \n",
    "It a categorical column- meaning we'd have to impute with the mode, the mode doesnt make sense in this case because the \n",
    "kepler name is never repeated twice. therefore im making a decision to drop the column\"\"\"\n",
    "df['kepler_name'].value_counts(ascending=False)\n",
    "df.drop(columns=['kepler_name'], inplace=True)"
   ]
  },
  {
   "cell_type": "code",
   "execution_count": 67,
   "id": "48dee8df",
   "metadata": {},
   "outputs": [
    {
     "data": {
      "text/plain": [
       "koi_disposition\n",
       "FALSE POSITIVE    4840\n",
       "CANDIDATE         2366\n",
       "CONFIRMED         2358\n",
       "Name: count, dtype: int64"
      ]
     },
     "execution_count": 67,
     "metadata": {},
     "output_type": "execute_result"
    }
   ],
   "source": [
    "df['koi_disposition'].value_counts()"
   ]
  },
  {
   "cell_type": "code",
   "execution_count": 68,
   "id": "c00ead22",
   "metadata": {},
   "outputs": [],
   "source": [
    "df['koi_disposition'] = df['koi_disposition'].replace({'CANDIDATE': 'CANDIDATE_OR_CONFIRMED', 'CONFIRMED': 'CANDIDATE_OR_CONFIRMED'})"
   ]
  },
  {
   "cell_type": "code",
   "execution_count": 69,
   "id": "6bbdf1ed",
   "metadata": {},
   "outputs": [
    {
     "data": {
      "text/plain": [
       "koi_disposition\n",
       "FALSE POSITIVE            4840\n",
       "CANDIDATE_OR_CONFIRMED    4724\n",
       "Name: count, dtype: int64"
      ]
     },
     "execution_count": 69,
     "metadata": {},
     "output_type": "execute_result"
    }
   ],
   "source": [
    "df['koi_disposition'].value_counts()"
   ]
  },
  {
   "cell_type": "markdown",
   "id": "5c123785",
   "metadata": {},
   "source": [
    "### imputation process"
   ]
  },
  {
   "cell_type": "code",
   "execution_count": 70,
   "id": "ec60ec9e",
   "metadata": {},
   "outputs": [
    {
     "name": "stdout",
     "output_type": "stream",
     "text": [
      "Numerical columns with missing data: ['koi_score', 'koi_period_err1', 'koi_period_err2', 'koi_time0bk_err1', 'koi_time0bk_err2', 'koi_impact', 'koi_impact_err1', 'koi_impact_err2', 'koi_duration_err1', 'koi_duration_err2', 'koi_depth', 'koi_depth_err1', 'koi_depth_err2', 'koi_prad', 'koi_prad_err1', 'koi_prad_err2', 'koi_teq', 'koi_insol', 'koi_insol_err1', 'koi_insol_err2', 'koi_model_snr', 'koi_tce_plnt_num', 'koi_steff', 'koi_steff_err1', 'koi_steff_err2', 'koi_slogg', 'koi_slogg_err1', 'koi_slogg_err2', 'koi_srad', 'koi_srad_err1', 'koi_srad_err2', 'koi_kepmag']\n",
      "Categorical columns with missing data: ['koi_tce_delivname']\n"
     ]
    }
   ],
   "source": [
    "missing_values = df.isnull().sum()\n",
    "columns_with_missing_values = missing_values[missing_values > 0].index\n",
    "numerical_columns_with_missing = []\n",
    "categorical_columns_with_missing = []\n",
    "for column in columns_with_missing_values:\n",
    "    if df[column].dtype == 'object':  # Categorical columns have dtype 'object'\n",
    "        categorical_columns_with_missing.append(column)\n",
    "    else:\n",
    "        numerical_columns_with_missing.append(column)\n",
    "print(\"Numerical columns with missing data:\", numerical_columns_with_missing)\n",
    "print(\"Categorical columns with missing data:\", categorical_columns_with_missing)\n"
   ]
  },
  {
   "cell_type": "code",
   "execution_count": 71,
   "id": "0000f4e5",
   "metadata": {},
   "outputs": [
    {
     "data": {
      "text/plain": [
       "'\\nOUTLIERS ARE PREVALENT IN THE NUMERICAL COLUMNS WITH MISSING VALUES, SO BETTER STRATEGY IS TO REPLACE WITH MEDIAN\\n'"
      ]
     },
     "execution_count": 71,
     "metadata": {},
     "output_type": "execute_result"
    }
   ],
   "source": [
    "\"\"\"\n",
    "OUTLIERS ARE PREVALENT IN THE NUMERICAL COLUMNS WITH MISSING VALUES, SO BETTER STRATEGY IS TO REPLACE WITH MEDIAN\n",
    "\"\"\""
   ]
  },
  {
   "cell_type": "code",
   "execution_count": 72,
   "id": "68c10789",
   "metadata": {},
   "outputs": [
    {
     "data": {
      "text/plain": [
       "(9564, 46)"
      ]
     },
     "execution_count": 72,
     "metadata": {},
     "output_type": "execute_result"
    }
   ],
   "source": [
    "df.shape"
   ]
  },
  {
   "cell_type": "code",
   "execution_count": 73,
   "id": "f211d141",
   "metadata": {},
   "outputs": [],
   "source": [
    "from sklearn.impute import SimpleImputer\n",
    "imputer = SimpleImputer(strategy='median')\n",
    "imputer.fit(df[numerical_columns_with_missing])\n",
    "df[numerical_columns_with_missing] = imputer.transform(df[numerical_columns_with_missing])"
   ]
  },
  {
   "cell_type": "code",
   "execution_count": 74,
   "id": "cbb48d9f",
   "metadata": {},
   "outputs": [
    {
     "data": {
      "text/plain": [
       "(9564, 46)"
      ]
     },
     "execution_count": 74,
     "metadata": {},
     "output_type": "execute_result"
    }
   ],
   "source": [
    "df.shape"
   ]
  },
  {
   "cell_type": "code",
   "execution_count": 75,
   "id": "b0acb2cd",
   "metadata": {},
   "outputs": [],
   "source": [
    "# df.isnull().sum()\n",
    "# df['koi_tce_delivname'].value_counts()\n",
    "\"\"\"\n",
    "koi_tce_delivname is categorical column with close to 3.6% values missing therefore using mode to replace \n",
    "\"\"\"\n",
    "mode_value = df['koi_tce_delivname'].mode()[0]\n",
    "\n",
    "# Fill missing values with the mode\n",
    "df['koi_tce_delivname'].fillna(mode_value, inplace=True)"
   ]
  },
  {
   "cell_type": "code",
   "execution_count": 76,
   "id": "483dcc9a",
   "metadata": {},
   "outputs": [
    {
     "data": {
      "text/plain": [
       "'missing values have been addressed'"
      ]
     },
     "execution_count": 76,
     "metadata": {},
     "output_type": "execute_result"
    }
   ],
   "source": [
    "\"\"\"missing values have been addressed\"\"\""
   ]
  },
  {
   "cell_type": "code",
   "execution_count": 77,
   "id": "4194e290",
   "metadata": {},
   "outputs": [],
   "source": [
    "numeric_columns = df.select_dtypes(include=['number']).columns\n",
    "purely_numeric_columns = [col for col in numeric_columns if df[col].nunique() > 10]  # Adjust the threshold as needed"
   ]
  },
  {
   "cell_type": "markdown",
   "id": "2924ffd5",
   "metadata": {},
   "source": [
    "### encoding"
   ]
  },
  {
   "cell_type": "code",
   "execution_count": 78,
   "id": "61f12c8c",
   "metadata": {},
   "outputs": [],
   "source": [
    "li_objs=[]\n",
    "for i in df.columns:\n",
    "    if i not in numeric_columns:\n",
    "        li_objs.append(i)"
   ]
  },
  {
   "cell_type": "code",
   "execution_count": 79,
   "id": "1477e479",
   "metadata": {},
   "outputs": [
    {
     "data": {
      "text/html": [
       "<div>\n",
       "<style scoped>\n",
       "    .dataframe tbody tr th:only-of-type {\n",
       "        vertical-align: middle;\n",
       "    }\n",
       "\n",
       "    .dataframe tbody tr th {\n",
       "        vertical-align: top;\n",
       "    }\n",
       "\n",
       "    .dataframe thead th {\n",
       "        text-align: right;\n",
       "    }\n",
       "</style>\n",
       "<table border=\"1\" class=\"dataframe\">\n",
       "  <thead>\n",
       "    <tr style=\"text-align: right;\">\n",
       "      <th></th>\n",
       "      <th>kepoi_name</th>\n",
       "      <th>koi_disposition</th>\n",
       "      <th>koi_pdisposition</th>\n",
       "      <th>koi_tce_delivname</th>\n",
       "    </tr>\n",
       "  </thead>\n",
       "  <tbody>\n",
       "    <tr>\n",
       "      <th>0</th>\n",
       "      <td>K00752.01</td>\n",
       "      <td>CANDIDATE_OR_CONFIRMED</td>\n",
       "      <td>CANDIDATE</td>\n",
       "      <td>q1_q17_dr25_tce</td>\n",
       "    </tr>\n",
       "    <tr>\n",
       "      <th>1</th>\n",
       "      <td>K00752.02</td>\n",
       "      <td>CANDIDATE_OR_CONFIRMED</td>\n",
       "      <td>CANDIDATE</td>\n",
       "      <td>q1_q17_dr25_tce</td>\n",
       "    </tr>\n",
       "    <tr>\n",
       "      <th>2</th>\n",
       "      <td>K00753.01</td>\n",
       "      <td>CANDIDATE_OR_CONFIRMED</td>\n",
       "      <td>CANDIDATE</td>\n",
       "      <td>q1_q17_dr25_tce</td>\n",
       "    </tr>\n",
       "    <tr>\n",
       "      <th>3</th>\n",
       "      <td>K00754.01</td>\n",
       "      <td>FALSE POSITIVE</td>\n",
       "      <td>FALSE POSITIVE</td>\n",
       "      <td>q1_q17_dr25_tce</td>\n",
       "    </tr>\n",
       "    <tr>\n",
       "      <th>4</th>\n",
       "      <td>K00755.01</td>\n",
       "      <td>CANDIDATE_OR_CONFIRMED</td>\n",
       "      <td>CANDIDATE</td>\n",
       "      <td>q1_q17_dr25_tce</td>\n",
       "    </tr>\n",
       "    <tr>\n",
       "      <th>...</th>\n",
       "      <td>...</td>\n",
       "      <td>...</td>\n",
       "      <td>...</td>\n",
       "      <td>...</td>\n",
       "    </tr>\n",
       "    <tr>\n",
       "      <th>9559</th>\n",
       "      <td>K07985.01</td>\n",
       "      <td>FALSE POSITIVE</td>\n",
       "      <td>FALSE POSITIVE</td>\n",
       "      <td>q1_q17_dr25_tce</td>\n",
       "    </tr>\n",
       "    <tr>\n",
       "      <th>9560</th>\n",
       "      <td>K07986.01</td>\n",
       "      <td>CANDIDATE_OR_CONFIRMED</td>\n",
       "      <td>CANDIDATE</td>\n",
       "      <td>q1_q17_dr25_tce</td>\n",
       "    </tr>\n",
       "    <tr>\n",
       "      <th>9561</th>\n",
       "      <td>K07987.01</td>\n",
       "      <td>FALSE POSITIVE</td>\n",
       "      <td>FALSE POSITIVE</td>\n",
       "      <td>q1_q17_dr25_tce</td>\n",
       "    </tr>\n",
       "    <tr>\n",
       "      <th>9562</th>\n",
       "      <td>K07988.01</td>\n",
       "      <td>CANDIDATE_OR_CONFIRMED</td>\n",
       "      <td>CANDIDATE</td>\n",
       "      <td>q1_q17_dr25_tce</td>\n",
       "    </tr>\n",
       "    <tr>\n",
       "      <th>9563</th>\n",
       "      <td>K07989.01</td>\n",
       "      <td>FALSE POSITIVE</td>\n",
       "      <td>FALSE POSITIVE</td>\n",
       "      <td>q1_q17_dr25_tce</td>\n",
       "    </tr>\n",
       "  </tbody>\n",
       "</table>\n",
       "<p>9564 rows × 4 columns</p>\n",
       "</div>"
      ],
      "text/plain": [
       "     kepoi_name         koi_disposition koi_pdisposition koi_tce_delivname\n",
       "0     K00752.01  CANDIDATE_OR_CONFIRMED        CANDIDATE   q1_q17_dr25_tce\n",
       "1     K00752.02  CANDIDATE_OR_CONFIRMED        CANDIDATE   q1_q17_dr25_tce\n",
       "2     K00753.01  CANDIDATE_OR_CONFIRMED        CANDIDATE   q1_q17_dr25_tce\n",
       "3     K00754.01          FALSE POSITIVE   FALSE POSITIVE   q1_q17_dr25_tce\n",
       "4     K00755.01  CANDIDATE_OR_CONFIRMED        CANDIDATE   q1_q17_dr25_tce\n",
       "...         ...                     ...              ...               ...\n",
       "9559  K07985.01          FALSE POSITIVE   FALSE POSITIVE   q1_q17_dr25_tce\n",
       "9560  K07986.01  CANDIDATE_OR_CONFIRMED        CANDIDATE   q1_q17_dr25_tce\n",
       "9561  K07987.01          FALSE POSITIVE   FALSE POSITIVE   q1_q17_dr25_tce\n",
       "9562  K07988.01  CANDIDATE_OR_CONFIRMED        CANDIDATE   q1_q17_dr25_tce\n",
       "9563  K07989.01          FALSE POSITIVE   FALSE POSITIVE   q1_q17_dr25_tce\n",
       "\n",
       "[9564 rows x 4 columns]"
      ]
     },
     "execution_count": 79,
     "metadata": {},
     "output_type": "execute_result"
    }
   ],
   "source": [
    "df[li_objs]"
   ]
  },
  {
   "cell_type": "code",
   "execution_count": 81,
   "id": "df62457c",
   "metadata": {},
   "outputs": [
    {
     "name": "stdout",
     "output_type": "stream",
     "text": [
      "kepoi_name_freq           float64\n",
      "koi_tce_delivname_freq    float64\n",
      "dtype: object\n"
     ]
    }
   ],
   "source": [
    "\"\"\" kepoi name and koi_tce_delivname are nominal categorical variables, where are koi disposition is a ordinal categorical\n",
    "variable, however using onehotencoding nominals will result in far too many columns making model overly complex, therefore\n",
    "will be using frequency encoding for\"\"\"\n",
    "# Calculate the frequency of each category in the 'kepoi_name' column\n",
    "kepoi_name_frequency = df['kepoi_name'].value_counts(normalize=True)\n",
    "\n",
    "# Map the frequencies to the original 'kepoi_name' column and convert to float\n",
    "df['kepoi_name_freq'] = df['kepoi_name'].map(kepoi_name_frequency)\n",
    "\n",
    "# Convert the column to float, handling non-numeric values\n",
    "df['kepoi_name_freq'] = pd.to_numeric(df['kepoi_name_freq'], errors='coerce')\n",
    "\n",
    "# Calculate the frequency of each category in the 'koi_tce_delivname' column\n",
    "koi_tce_delivname_frequency = df['koi_tce_delivname'].value_counts(normalize=True)\n",
    "\n",
    "# Map the frequencies to the original 'koi_tce_delivname' column and convert to float\n",
    "df['koi_tce_delivname_freq'] = df['koi_tce_delivname'].map(koi_tce_delivname_frequency)\n",
    "\n",
    "# Convert the column to float, handling non-numeric values\n",
    "df['koi_tce_delivname_freq'] = pd.to_numeric(df['koi_tce_delivname_freq'], errors='coerce')\n",
    "\n",
    "# Drop the original columns\n",
    "df = df.drop(columns=['kepoi_name', 'koi_tce_delivname'])\n",
    "\n",
    "# Print the data types of the new columns\n",
    "print(df[['kepoi_name_freq', 'koi_tce_delivname_freq']].dtypes)\n",
    "\n"
   ]
  },
  {
   "cell_type": "code",
   "execution_count": 82,
   "id": "653071ee",
   "metadata": {},
   "outputs": [
    {
     "name": "stdout",
     "output_type": "stream",
     "text": [
      "Mapping of original classes to encoded integers:\n",
      "CANDIDATE: 0\n",
      "FALSE POSITIVE: 1\n",
      "\n",
      "First few rows of the DataFrame with encoded column:\n",
      "      kepid  koi_score  koi_fpflag_nt  koi_fpflag_ss  koi_fpflag_co  \\\n",
      "0  10797460      1.000              0              0              0   \n",
      "1  10797460      0.969              0              0              0   \n",
      "2  10811496      0.000              0              0              0   \n",
      "3  10848459      0.000              0              1              0   \n",
      "4  10854555      1.000              0              0              0   \n",
      "\n",
      "   koi_fpflag_ec  koi_period  koi_period_err1  koi_period_err2  koi_time0bk  \\\n",
      "0              0    9.488036     2.775000e-05    -2.775000e-05   170.538750   \n",
      "1              0   54.418383     2.479000e-04    -2.479000e-04   162.513840   \n",
      "2              0   19.899140     1.494000e-05    -1.494000e-05   175.850252   \n",
      "3              0    1.736952     2.630000e-07    -2.630000e-07   170.307565   \n",
      "4              0    2.525592     3.761000e-06    -3.761000e-06   171.595550   \n",
      "\n",
      "   ...  koi_slogg_err2  koi_srad  koi_srad_err1  koi_srad_err2         ra  \\\n",
      "0  ...          -0.096     0.927          0.105         -0.061  291.93423   \n",
      "1  ...          -0.096     0.927          0.105         -0.061  291.93423   \n",
      "2  ...          -0.176     0.868          0.233         -0.078  297.00482   \n",
      "3  ...          -0.168     0.791          0.201         -0.067  285.53461   \n",
      "4  ...          -0.210     1.046          0.334         -0.133  288.75488   \n",
      "\n",
      "         dec  koi_kepmag  kepoi_name_freq  koi_tce_delivname_freq  \\\n",
      "0  48.141651      15.347         0.000105                0.878294   \n",
      "1  48.141651      15.347         0.000105                0.878294   \n",
      "2  48.134129      15.436         0.000105                0.878294   \n",
      "3  48.285210      15.597         0.000105                0.878294   \n",
      "4  48.226200      15.509         0.000105                0.878294   \n",
      "\n",
      "   koi_disposition_encoded  \n",
      "0                        0  \n",
      "1                        0  \n",
      "2                        0  \n",
      "3                        1  \n",
      "4                        0  \n",
      "\n",
      "[5 rows x 45 columns]\n"
     ]
    }
   ],
   "source": [
    "from sklearn.preprocessing import LabelEncoder\n",
    "\n",
    "# Initialize LabelEncoder\n",
    "label_encoder = LabelEncoder()\n",
    "\n",
    "# Fit label encoder and transform the 'koi_disposition' column\n",
    "df['koi_disposition_encoded'] = label_encoder.fit_transform(df['koi_disposition'])\n",
    "df['koi_disposition_encoded'] = label_encoder.fit_transform(df['koi_pdisposition'])\n",
    "\n",
    "# Print the mapping of original classes to encoded integers\n",
    "print(\"Mapping of original classes to encoded integers:\")\n",
    "for label, code in zip(label_encoder.classes_, label_encoder.transform(label_encoder.classes_)):\n",
    "    print(f\"{label}: {code}\")\n",
    "\n",
    "# Drop the original 'koi_disposition' column\n",
    "df.drop(columns=['koi_disposition'], inplace=True)\n",
    "df.drop(columns=['koi_pdisposition'], inplace=True)\n",
    "# Print the first few rows of the DataFrame to see the encoded column and ensure the original column is dropped\n",
    "print(\"\\nFirst few rows of the DataFrame with encoded column:\")\n",
    "print(df.head())\n"
   ]
  },
  {
   "cell_type": "code",
   "execution_count": 83,
   "id": "a71a07b0",
   "metadata": {},
   "outputs": [],
   "source": [
    "X=df.iloc[:,:-1]\n",
    "y=df.iloc[:,-1]"
   ]
  },
  {
   "cell_type": "markdown",
   "id": "a0d2c9ed",
   "metadata": {
    "colab_type": "text",
    "id": "qb_vcgm3qZKW"
   },
   "source": [
    "## Splitting the dataset into the Training set and Test set"
   ]
  },
  {
   "cell_type": "code",
   "execution_count": 84,
   "id": "c03a62cb",
   "metadata": {
    "colab": {},
    "colab_type": "code",
    "id": "pXgA6CzlqbCl"
   },
   "outputs": [],
   "source": [
    "from sklearn.model_selection import train_test_split\n",
    "X_train, X_test, y_train, y_test = train_test_split(X, y, test_size = 0.2, random_state = 1)"
   ]
  },
  {
   "cell_type": "markdown",
   "id": "9a5c5927",
   "metadata": {
    "colab_type": "text",
    "id": "TpGqbS4TqkIR"
   },
   "source": [
    "## Feature Scaling"
   ]
  },
  {
   "cell_type": "code",
   "execution_count": 85,
   "id": "0ac974bf",
   "metadata": {},
   "outputs": [
    {
     "data": {
      "text/plain": [
       "\"feature scaling all except'kepoi_name' and 'koi_tce_delivname'\""
      ]
     },
     "execution_count": 85,
     "metadata": {},
     "output_type": "execute_result"
    }
   ],
   "source": [
    "\"\"\"feature scaling all except'kepoi_name' and 'koi_tce_delivname'\"\"\""
   ]
  },
  {
   "attachments": {
    "Screenshot%202024-02-06%20202654.png": {
     "image/png": "[encoded data removed]"
    }
   },
   "cell_type": "markdown",
   "id": "2cdd348d",
   "metadata": {},
   "source": [
    "### Applying Box-cox transformation\n",
    "The Box-Cox transformation is a statistical technique used to stabilize variance and make data more normally distributed. It is particularly useful when dealing with data that violates the assumptions of normality required by many statistical models.\n",
    "\n",
    "In essence, the Box-Cox transformation applies a power transformation to the data, defined by the formula:\n",
    "\n",
    "\n",
    "![Screenshot%202024-02-06%20202654.png](attachment:Screenshot%202024-02-06%20202654.png)\n",
    "where \n",
    "y is the original data and \n",
    "\n",
    "λ is a parameter that determines the type of transformation applied. The optimal value of \n",
    "\n",
    "λ is determined through maximum likelihood estimation or other optimization techniques.\n",
    "\n",
    "The Box-Cox transformation works well for data that follows a wide range of distributions, including skewed distributions. It is commonly used in regression analysis, time series analysis, and other statistical modeling tasks to improve the validity of assumptions and enhance the performance of models."
   ]
  },
  {
   "cell_type": "code",
   "execution_count": 86,
   "id": "ea044f0a",
   "metadata": {},
   "outputs": [],
   "source": [
    "from scipy.stats import boxcox\n",
    "\n",
    "# # List of columns to transform using Box-Cox\n",
    "columns_to_transform = ['koi_score', 'koi_fpflag_nt', 'koi_fpflag_ss', 'koi_fpflag_co',\n",
    "       'koi_fpflag_ec', 'koi_period', 'koi_period_err1', 'koi_period_err2',\n",
    "       'koi_time0bk', 'koi_time0bk_err1', 'koi_time0bk_err2', 'koi_impact',\n",
    "       'koi_impact_err1', 'koi_impact_err2', 'koi_duration',\n",
    "       'koi_duration_err1', 'koi_duration_err2', 'koi_depth', 'koi_depth_err1',\n",
    "       'koi_depth_err2', 'koi_prad', 'koi_prad_err1', 'koi_prad_err2',\n",
    "       'koi_teq', 'koi_insol', 'koi_insol_err1', 'koi_insol_err2',\n",
    "       'koi_model_snr', 'koi_tce_plnt_num', 'koi_steff', 'koi_steff_err1',\n",
    "       'koi_steff_err2', 'koi_slogg', 'koi_slogg_err1', 'koi_slogg_err2',\n",
    "       'koi_srad', 'koi_srad_err1', 'koi_srad_err2', 'ra', 'dec', 'koi_kepmag']\n",
    "\n",
    "\n",
    "# Apply Box-Cox transformation to specified columns in X_train\n",
    "for column in columns_to_transform:\n",
    "    # Add a small constant value to handle non-positive values\n",
    "    X_train[column] = X_train[column] - X_train[column].min() + 1\n",
    "    X_train[column], _ = boxcox(X_train[column])\n"
   ]
  },
  {
   "cell_type": "markdown",
   "id": "4fff9563",
   "metadata": {},
   "source": [
    "### standardizing to bring into same range"
   ]
  },
  {
   "cell_type": "code",
   "execution_count": 87,
   "id": "bcd88e92",
   "metadata": {},
   "outputs": [],
   "source": [
    "from sklearn.preprocessing import StandardScaler\n",
    "\n",
    "# Initialize StandardScaler\n",
    "scaler = StandardScaler()\n",
    "\n",
    "# Fit scaler on X_train and transform X_train\n",
    "X_train = scaler.fit_transform(X_train)\n",
    "\n",
    "# Transform X_test using the same scaler\n",
    "X_test= scaler.transform(X_test)"
   ]
  }
 ],
 "metadata": {
  "kernelspec": {
   "display_name": "Python 3 (ipykernel)",
   "language": "python",
   "name": "python3"
  },
  "language_info": {
   "codemirror_mode": {
    "name": "ipython",
    "version": 3
   },
   "file_extension": ".py",
   "mimetype": "text/x-python",
   "name": "python",
   "nbconvert_exporter": "python",
   "pygments_lexer": "ipython3",
   "version": "3.11.5"
  }
 },
 "nbformat": 4,
 "nbformat_minor": 5
}
